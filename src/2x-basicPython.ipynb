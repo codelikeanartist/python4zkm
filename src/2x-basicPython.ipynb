{
 "cells": [
  {
   "cell_type": "code",
   "execution_count": 1,
   "metadata": {},
   "outputs": [
    {
     "name": "stdout",
     "output_type": "stream",
     "text": [
      "Variable a is:  3 , type is  <class 'int'>\n",
      "Variable aa is:  3.14159 , type is  <class 'float'>\n",
      "Variable b is:  zkm , type is  <class 'str'>\n"
     ]
    }
   ],
   "source": [
    "# python is an interpreted language\n",
    "# we use version 3: python3\n",
    "\n",
    "# The character \"#\" indicates a comment,\n",
    "# up to the end of the line \n",
    "\n",
    "\n",
    "#####################################\n",
    "# you can type the instructions directly in the python shell\n",
    "# where you see the output.\n",
    "# make sure you type only in the line with the leading \">>>\"\n",
    "# Alternatively, you can use the python tool \"idle3\"\n",
    "# which lets you edit your code in a separate window then run\n",
    "# it in another\n",
    "# You can also use a framework called jupyter-notebook (this one)\n",
    "# which is a nice web based tools\n",
    "#####################################\n",
    "\n",
    "#define and print a variable\n",
    "# integer number\n",
    "a = 3\n",
    "print(\"Variable a is: \",a,\", type is \",type(a))\n",
    "\n",
    "# A float number:\n",
    "# A float (rationale Zahl) can have digits after\n",
    "# the decimal point while an integer doesn't (ganze zahl)\n",
    "\n",
    "aa = 3.14159\n",
    "print(\"Variable aa is: \",aa,\", type is \",type(aa))\n",
    "\n",
    "# text (string)\n",
    "b = \"zkm\"\n",
    "print(\"Variable b is: \",b,\", type is \",type(b))\n",
    "\n"
   ]
  },
  {
   "cell_type": "code",
   "execution_count": 2,
   "metadata": {},
   "outputs": [
    {
     "name": "stdout",
     "output_type": "stream",
     "text": [
      "Variable c is:  [4, 3, 2, 1] , type is  <class 'list'>\n",
      "First element of variable c is:  4 , type is  <class 'int'>\n",
      "Second element of variable c is:  3 , type is  <class 'int'>\n",
      "Element  3  of variable c is:  1 , type is  <class 'int'>\n"
     ]
    }
   ],
   "source": [
    "# a list (vector, array) of numbers\n",
    "# a list of elements enclosed in [ ]\n",
    "c = [4,3,2,1]\n",
    "print(\"Variable c is: \",c,\", type is \",type(c))\n",
    "\n",
    "# individual elements of a list\n",
    "# can be address with an index\n",
    "# all indices start from 0, by default\n",
    "print(\"First element of variable c is: \",c[0],\", type is \",type(c[0]))\n",
    "print(\"Second element of variable c is: \",c[1],\", type is \",type(c[1]))\n",
    "\n",
    "# we can use another variable as index\n",
    "d = 3\n",
    "print(\"Element \",d,\" of variable c is: \",c[d],\", type is \",type(c[d]))\n",
    "\n",
    "# if we use an invalid index, python will be unhappy\n",
    "#print(\"Element 5 of variable c is: \",c[5])\n",
    "# it's better to comment this code out by placing a \"#\"\n",
    "# at the start of the line\n",
    "\n"
   ]
  },
  {
   "cell_type": "code",
   "execution_count": 3,
   "metadata": {},
   "outputs": [
    {
     "name": "stdout",
     "output_type": "stream",
     "text": [
      "Element  0 :  4\n",
      "Element  1 :  3\n",
      "Element  2 :  2\n",
      "Element  3 :  1\n"
     ]
    }
   ],
   "source": [
    "# we can iterate of all elements in a list in different ways\n",
    "# with a for loop:\n",
    "for i in range(0,4):\n",
    "    print(\"Element \",i,\": \",c[i])\n",
    "# Please note three things here:\n",
    "#   1) the range 0,4 seems to covers 5 elements,\n",
    "#   but the last one is NOT included\n",
    "#   2) the line with the condition (control statement) ends with \":\"\n",
    "#   3) the following line is indented\n",
    "# This holds in general for all control structures in python\n",
    "\n"
   ]
  },
  {
   "cell_type": "code",
   "execution_count": 4,
   "metadata": {},
   "outputs": [
    {
     "name": "stdout",
     "output_type": "stream",
     "text": [
      "Element is :  4\n",
      "Element is :  3\n",
      "Element is :  2\n",
      "Element is :  1\n"
     ]
    }
   ],
   "source": [
    "# Alternatively, we can use the \"in\" operator\n",
    "for cc in c:\n",
    "    print(\"Element is : \",cc)\n",
    "# Again, we have the \":\" and the indentation\n",
    "# This time, we don't have an explicit index\n",
    "# but we don't need to check the index range any more\n",
    "# less errors!\n",
    "\n"
   ]
  },
  {
   "cell_type": "code",
   "execution_count": 5,
   "metadata": {},
   "outputs": [
    {
     "name": "stdout",
     "output_type": "stream",
     "text": [
      "Example demonstating keyboard input\n",
      "\n",
      "Raw input, text or number\n",
      "1\n",
      "type:  <class 'str'> , value:  1\n",
      "Evaluated input, text, number, list or dict. Text enclosed in \"\"\n",
      "2\n",
      "type:  <class 'int'> , value:  2\n",
      "Evaluated input, 2 entries as before, separated by ,\n",
      "1,2\n",
      "A - type:  <class 'int'> , value:  1\n",
      "B - type:  <class 'int'> , value:  2\n",
      "Evaluated input, 2 entries as before, separated by ,\n",
      "1\n",
      "type:  <class 'int'> , value:  1\n"
     ]
    }
   ],
   "source": [
    "######################################\n",
    "# input options\n",
    "# let's see how can we enter the data into the program\n",
    "\n",
    "print(\"Example demonstating keyboard input\\n\")\n",
    "\n",
    "a1 = input(\"Raw input, text or number\\n\")\n",
    "print(\"type: \",type(a1),\", value: \",a1)\n",
    "\n",
    "a2 = eval(input(\"Evaluated input, text, number, list or dict. Text enclosed in \\\"\\\"\\n\"))\n",
    "print(\"type: \",type(a2),\", value: \",a2)\n",
    "\n",
    "a3,b1 = eval(input(\"Evaluated input, 2 entries as before, separated by ,\\n\"))\n",
    "print(\"A - type: \",type(a3),\", value: \",a3)\n",
    "print(\"B - type: \",type(b1),\", value: \",b1)\n",
    "\n",
    "a4 = eval(input(\"Evaluated input, 2 entries as before, separated by ,\\n\"))\n",
    "\n",
    "if \"tuple\" in str(type(a4)) or \"list\" in str(type(a4)):\n",
    "    for aa in a4:\n",
    "        print(\"type: \",type(aa),\", value: \",aa)\n",
    "else:   \n",
    "    print(\"type: \",type(a4),\", value: \",a4)\n",
    "\n"
   ]
  },
  {
   "cell_type": "code",
   "execution_count": 6,
   "metadata": {},
   "outputs": [
    {
     "name": "stdout",
     "output_type": "stream",
     "text": [
      "\n",
      "\n",
      "About functions ...\n",
      "\n",
      "docstring:   A comment string with triple \" as the first line of a function definition \n",
      "    is called docstring. It is useed to comment on the function's function. \n",
      "    The docstring can be read by the member __doc__, in this case: printStr.__doc__\n",
      "    Our function will accept 2 paramters c and n and will print the string s  for n times\n",
      "    We initialize the paramters with and empty sting \"\" and 1, so if a parameter\n",
      "    is left out, the default value will be used\n",
      "    \n"
     ]
    }
   ],
   "source": [
    "################################################\n",
    "# by now, we have used some variables of different and a couple of functions\n",
    "# Functions are pieces of code written elsewhere, which do something usefull\n",
    "# like printing values or waiting for input\n",
    "# The functions we've used so for are print(), input(), type(), str() and eval()\n",
    "# all functions have ()-brackets and we put the values or objects between\n",
    "# the brakcets, the function sould work upon. We often call these things\n",
    "# in brackets \"function parameters\"\n",
    "# Many function don't only take parameters as inputs, they also return\n",
    "# values, very obviously seen with the \"input()\" function\n",
    "# Many functions are written by other people and are available\n",
    "# in libraries or modules (naming depends on language)\n",
    "# we can define out own functions too, like so:\n",
    "# def <name>(<params>):\n",
    "def printStr(s=\"\",n=1):\n",
    "    \"\"\" A comment string with triple \\\" as the first line of a function definition \n",
    "    is called docstring. It is useed to comment on the function's function. \n",
    "    The docstring can be read by the member __doc__, in this case: printStr.__doc__\n",
    "    Our function will accept 2 paramters c and n and will print the string s  for n times\n",
    "    We initialize the paramters with and empty sting \\\"\\\" and 1, so if a parameter\n",
    "    is left out, the default value will be used\n",
    "    \"\"\"\n",
    "    # we have to indent all instructions following the function definition\n",
    "    # we use a new kind of loop, the while loop\n",
    "    # which is executed while the condition is true\n",
    "    while n > 0:\n",
    "        print(s,end=\"\") # normally, print terminates with a newline. here we don't\n",
    "        n -= 1\n",
    "    # that's it\n",
    "\n",
    "\n",
    "print(\"\\n\\nAbout functions ...\")\n",
    "# we print the docstring:\n",
    "print(\"\\ndocstring: \",printStr.__doc__)\n",
    "\n",
    "\n"
   ]
  },
  {
   "cell_type": "code",
   "execution_count": 7,
   "metadata": {},
   "outputs": [
    {
     "name": "stdout",
     "output_type": "stream",
     "text": [
      "\n",
      "\n",
      "Which string (remember the \"s) and how often (remember the ,)\"hoihou\",3\n",
      "hoihouhoihouhoihou\n",
      "\n"
     ]
    }
   ],
   "source": [
    "# let's call out function\n",
    "s,n = eval(input(\"\\n\\nWhich string (remember the \\\"s) and how often (remember the ,)\"))\n",
    "printStr(s,n)\n",
    "print(\"\\n\")\n",
    "      "
   ]
  },
  {
   "cell_type": "code",
   "execution_count": 9,
   "metadata": {},
   "outputs": [
    {
     "name": "stdout",
     "output_type": "stream",
     "text": [
      "Let's go back to the data ....\n",
      "\n",
      "Variable nc (numpy) is:  [4 3 2 1]\n",
      "Variable nf (numpy) is:  [4. 3. 2. 1.]\n",
      "Multiply the list by 2 give a list with twice as many items: \n",
      " [4, 3, 2, 1, 4, 3, 2, 1]\n",
      "Multiply the array by 2 multiplies the elements:  [8 6 4 2]\n",
      "With numpy arrays we have to use the append function to get longer arrays\n",
      "[4 3 2 1 4 3 2 1]\n",
      "We can also repeat each item in an array with np.repeat\n",
      "[4 4 3 3 2 2 1 1]\n",
      "We can also convert strings into numeric arrays\n",
      "Variable nt from  zkm  as unisgned integer array (uint) is:  [122 107 109]\n"
     ]
    }
   ],
   "source": [
    "################################################\n",
    "# back to operation ...\n",
    "print(\"Let's go back to the data ....\\n\")\n",
    "\n",
    "# When working with larger amounts of data\n",
    "# we need additional functions, e.g. for operations\n",
    "# on multiple items at the same time.\n",
    "# Numpy (numerical python) is a library which\n",
    "# provides a lot of such functions\n",
    "# However, we need to get the numbers into numpy types\n",
    "# For example, we can turn a list into an numpy array\n",
    "# or do various mathematical operations\n",
    "\n",
    "# To use numpy, we first import an external module\n",
    "# which has functionality written\n",
    "# by someone else ...\n",
    "# we use it here with the local name np\n",
    "import numpy as np\n",
    "\n",
    "# Now, let's take the list and convert it into a numpy array\n",
    "# All functions imported from the numpy module\n",
    "# have to be prefixed with np.\n",
    "# So here we use the function array()\n",
    "# with c as the parameter\n",
    "\n",
    "nc = np.array(c)\n",
    "print(\"Variable nc (numpy) is: \",nc)\n",
    "# This looks quite the same so far\n",
    "\n",
    "# but we can also change the data type, to float, for example\n",
    "nf = np.array(c,\"float\")\n",
    "print(\"Variable nf (numpy) is: \",nf)\n",
    "\n",
    "# there are a few more differences to lists, e.g on multiplication\n",
    "print(\"Multiply the list by 2 give a list with twice as many items: \\n\",2*c)\n",
    "print(\"Multiply the array by 2 multiplies the elements: \",2*nc)\n",
    "print(\"With numpy arrays we have to use the append function to get longer arrays\")\n",
    "print(np.append(nc,nc))\n",
    "print(\"We can also repeat each item in an array with np.repeat\")\n",
    "print(np.repeat(nc,2))\n",
    "\n",
    "# we can also turn the text into a numpy array\n",
    "print(\"We can also convert strings into numeric arrays\")\n",
    "# fromstring is simple but has some issues on unicode strings\n",
    "# because some characters use more bytes than others\n",
    "#nt = np.fromstring(b,\"uint8\")\n",
    "# a more correct way is to convert to a byte array, then to a buffer\n",
    "nt = np.frombuffer(bytearray(b,\"utf-8\"),\"uint8\")\n",
    "print(\"Variable nt from \",b,\" as unisgned integer array (uint) is: \",nt)\n",
    "\n"
   ]
  },
  {
   "cell_type": "code",
   "execution_count": 11,
   "metadata": {},
   "outputs": [
    {
     "name": "stdout",
     "output_type": "stream",
     "text": [
      "The array has 3 rows and 4 columns,\n",
      " but empty() does not set any data,\n",
      "so the values are random\n",
      " [[-25784  31103  32528      0]\n",
      " [ 13696   1419  21898      0]\n",
      " [    32      0      0      0]]\n",
      "item 2 and 3 of the second row can be accessed like so:\n",
      "n2d[1,1:3]\n",
      " [ 1419 21898]\n",
      "Remember, the last index value is not included\n",
      "shape of n2d: (3, 4)\n",
      "Our week schedule looks like so:\n",
      " [[ 8  8  8  8  8  8  8]\n",
      " [ 2  2  2  2  2  3  3]\n",
      " [ 8  8  8  8  8  0  0]\n",
      " [ 6  6  6  6  6 15 15]]\n"
     ]
    }
   ],
   "source": [
    "###########################################\n",
    "# so far, we've dealt with individual items and lists and their np eqivalent, arrays\n",
    "# a single list turns into an array with a single dimentsion\n",
    "# we can also have more dimensions, for example two\n",
    "# a 2D array is widley know as a table\n",
    "\n",
    "# lets create an 2 d array with 3 rows and 4 columns, with type integer\n",
    "n2d = np.empty((3,4),dtype=np.int16)\n",
    "\n",
    "print(\"The array has 3 rows and 4 columns,\\n but empty() does not set any data,\\nso the values are random\\n\",n2d)\n",
    "\n",
    "# we can extract specific cells with 2 indices and/or ranges\n",
    "\n",
    "print(\"item 2 and 3 of the second row can be accessed like so:\\nn2d[1,1:3]\\n\",n2d[1,1:3])\n",
    "print(\"Remember, the last index value is not included\")\n",
    "\n",
    "# the dimensionality of an array are called a \"shape\"\n",
    "print(\"shape of n2d:\", n2d.shape)\n",
    "\n",
    "# a simple example for of a table is a weekly schedule like the following\n",
    "wd = np.zeros((4,7),dtype=np.uint8) # this time, we use a 0 initialized 2d array\n",
    "# columns go from Monday to Sunday\n",
    "# rows are daily activities like sleep, eat, work, fun\n",
    "# we put some numbers ....\n",
    "wd[0,:] = [8,8,8,8,8,8,8] # 8 hours of sleep (sigh)\n",
    "wd[1,:] = [2,2,2,2,2,3,3] # \n",
    "wd[2,:] = [8,8,8,8,8,0,0] # so much work ...\n",
    "wd[3,:] = [6,6,6,6,6,15,15] # so much fun\n",
    "\n",
    "print(\"Our week schedule looks like so:\\n\", wd)\n",
    "\n"
   ]
  },
  {
   "cell_type": "code",
   "execution_count": 13,
   "metadata": {},
   "outputs": [
    {
     "data": {
      "image/png": "[encoded data removed]",
      "text/plain": [
       "<matplotlib.figure.Figure at 0x7f103b189550>"
      ]
     },
     "metadata": {},
     "output_type": "display_data"
    }
   ],
   "source": [
    "###########################################\n",
    "# to show this graphically, we use another external module: \n",
    "# the standard plotting library pyplot \n",
    "# from the module matplotlib. We use pyplot with the local name plt\n",
    "import matplotlib.pyplot as plt\n",
    "\n",
    "# create a plotting figure with 2 areas, vertically spaced\n",
    "# this is the first one\n",
    "axs = plt.subplot(2,1,1)\n",
    "\n",
    "collabel=(\"MO\",\"TU\",\"WE\",\"TH\",\"FR\",\"SA\",\"SU\") # this is a list but with round bracket\n",
    "# we can access values like with [] but we cannot change them. This is called a tuple\n",
    "rowlabel=(\"Sleep\",\"Eat\",\"Work\",\"Fun\")\n",
    "axs.axis('tight')\n",
    "axs.axis('off')\n",
    "rcols = [\"white\"] * len(wd)\n",
    "cecols = [[\"gray\"] * len(wd[0])]*len(wd)\n",
    "clcols = [\"green\"] * len(wd[0])\n",
    "\n",
    "tbl = axs.table(cellText=wd,rowLabels=rowlabel,\\\n",
    "                      colLabels=collabel,loc='center',\\\n",
    "                      cellColours=cecols,\\\n",
    "                      colColours=clcols,rowColours=rcols)\n",
    "tbl.auto_set_font_size(False)\n",
    "tbl.set_fontsize(14)\n",
    "tbl.scale(1.2, 1.4)\n",
    "l, b, w, h = axs.get_position().bounds\n",
    "axs.set_position([l + .1*w, b, w*.8, h])\n",
    "axs.set_title(\"Weekly schedule\")\n",
    "\n",
    "# this is the second one and contains just text\n",
    "tplot = plt.subplot(2,1,2)\n",
    "tplot.axis('off')\n",
    "tplot.clear()\n",
    "tplot.axis('off')\n",
    "txt = \"\"\"\n",
    "the meaning of the table is very clear.\n",
    "however, if we remove the row and columns labels\n",
    "the context is completely lost and we have no idea\n",
    "what these number should tell us.\n",
    "Basically, we're back to the pile of numbers ....\n",
    "\"\"\"\n",
    "\n",
    "tplot.annotate(txt,\\\n",
    "    xy=(1, 1), xytext=(.96,.94), xycoords=\"data\", \\\n",
    "    textcoords=\"axes fraction\",ha=\"right\", va=\"top\", size=14)\n",
    "\n",
    "# show the figure\n",
    "plt.show()\n",
    "\n"
   ]
  },
  {
   "cell_type": "code",
   "execution_count": null,
   "metadata": {
    "collapsed": true
   },
   "outputs": [],
   "source": []
  },
  {
   "cell_type": "code",
   "execution_count": null,
   "metadata": {
    "collapsed": true
   },
   "outputs": [],
   "source": []
  },
  {
   "cell_type": "code",
   "execution_count": null,
   "metadata": {
    "collapsed": true
   },
   "outputs": [],
   "source": []
  },
  {
   "cell_type": "code",
   "execution_count": null,
   "metadata": {
    "collapsed": true
   },
   "outputs": [],
   "source": []
  },
  {
   "cell_type": "code",
   "execution_count": null,
   "metadata": {
    "collapsed": true
   },
   "outputs": [],
   "source": []
  }
 ],
 "metadata": {
  "kernelspec": {
   "display_name": "Python 3",
   "language": "python",
   "name": "python3"
  },
  "language_info": {
   "codemirror_mode": {
    "name": "ipython",
    "version": 3
   },
   "file_extension": ".py",
   "mimetype": "text/x-python",
   "name": "python",
   "nbconvert_exporter": "python",
   "pygments_lexer": "ipython3",
   "version": "3.6.5"
  }
 },
 "nbformat": 4,
 "nbformat_minor": 2
}
